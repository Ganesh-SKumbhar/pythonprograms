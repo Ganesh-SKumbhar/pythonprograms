{
 "cells": [
  {
   "cell_type": "code",
   "execution_count": 11,
   "id": "3ba28014",
   "metadata": {},
   "outputs": [
    {
     "name": "stdout",
     "output_type": "stream",
     "text": [
      "string with length 6 :  ['mangos', 'bottle', 'mobile']\n"
     ]
    }
   ],
   "source": [
    "#15. Write a Python program to find the values of length six in a given list using Lambda.\n",
    "lst1 = ['alhpa', 'mangos', 'bottle', 'mobile', 'charger']\n",
    "\n",
    "print('string with length 6 : ', list(filter(lambda st: len(st) == 6, lst1)))"
   ]
  },
  {
   "cell_type": "code",
   "execution_count": 12,
   "id": "8348ed4e",
   "metadata": {},
   "outputs": [
    {
     "data": {
      "text/plain": [
       "[190, 26, 78]"
      ]
     },
     "execution_count": 12,
     "metadata": {},
     "output_type": "execute_result"
    }
   ],
   "source": [
    "#17. Write a Python program to find numbers divisible by nineteen or thirteen from a list of numbers using Lambda.\n",
    "lst1 = [190,26,54,78]\n",
    "list(filter(lambda x: x%19 == 0 or x%13 == 0, lst1))"
   ]
  },
  {
   "cell_type": "code",
   "execution_count": 13,
   "id": "3f70c9cf",
   "metadata": {},
   "outputs": [
    {
     "data": {
      "text/plain": [
       "[1, 3, 5, 7, 8, 9]"
      ]
     },
     "execution_count": 13,
     "metadata": {},
     "output_type": "execute_result"
    }
   ],
   "source": [
    "#38.Write a Python program to remove all elements from a given list present in another list using lambda.\n",
    "lst1 = [1,2,3,4,5,6,7,8,9]\n",
    "lst2 = [2,4,6]\n",
    "\n",
    "list(filter(lambda x: x not in lst2,lst1))"
   ]
  },
  {
   "cell_type": "code",
   "execution_count": 14,
   "id": "0f90cc1b",
   "metadata": {},
   "outputs": [
    {
     "name": "stdout",
     "output_type": "stream",
     "text": [
      "Enter sub-string to check in given listana\n"
     ]
    },
    {
     "data": {
      "text/plain": [
       "['banana']"
      ]
     },
     "execution_count": 14,
     "metadata": {},
     "output_type": "execute_result"
    }
   ],
   "source": [
    "#39.Write a Python program to find the elements of a given list of strings that contain specific substring using lambda.\n",
    "\n",
    "lst = ['mango','apple','banana','kiwi','orange']\n",
    "\n",
    "str1 = input('Enter sub-string to check in given list')\n",
    "\n",
    "list(filter(lambda st:str1 in st, lst))"
   ]
  },
  {
   "cell_type": "code",
   "execution_count": 15,
   "id": "24afa1da",
   "metadata": {},
   "outputs": [
    {
     "data": {
      "text/plain": [
       "[[12], [7, 11], [1, 5, 8]]"
      ]
     },
     "execution_count": 15,
     "metadata": {},
     "output_type": "execute_result"
    }
   ],
   "source": [
    "#40.Write a Python program to find the nested lists elements, which are present in another list using lambda.\n",
    "\n",
    "nums1 = [1, 2, 3, 4, 5, 6, 7, 8, 9, 10, 11, 12, 13, 14]\n",
    "nums2 = [[12, 18, 23, 25, 45], [7, 11, 19, 24, 28], [1, 5, 8, 18, 15, 16]]\n",
    "\n",
    "#for i in nums2:\n",
    "#    for j in i:\n",
    "#        if j in nums1:\n",
    "#            print(j)\n",
    "            \n",
    "[list(filter(lambda x: x in nums1, sub)) for sub in nums2]\n"
   ]
  },
  {
   "cell_type": "code",
   "execution_count": 16,
   "id": "e6898e7c",
   "metadata": {},
   "outputs": [
    {
     "data": {
      "text/plain": [
       "['nohtyp', 'avaj', 'gnalog']"
      ]
     },
     "execution_count": 16,
     "metadata": {},
     "output_type": "execute_result"
    }
   ],
   "source": [
    "#41. Write a Python program to reverse strings in a given list of string values using lambda.\n",
    "lst = ['python', 'java', 'golang']\n",
    "\n",
    "list(map(lambda st:st[::-1], lst))"
   ]
  },
  {
   "cell_type": "code",
   "execution_count": 17,
   "id": "ad22196e",
   "metadata": {},
   "outputs": [
    {
     "data": {
      "text/plain": [
       "12420"
      ]
     },
     "execution_count": 17,
     "metadata": {},
     "output_type": "execute_result"
    }
   ],
   "source": [
    "#42. Write a Python program to calculate the product of a given list of numbers using lambda.\n",
    "\n",
    "lst = [12,23,45]\n",
    "from functools import reduce\n",
    "\n",
    "reduce(lambda x,y:x*y,lst)\n"
   ]
  },
  {
   "cell_type": "code",
   "execution_count": 18,
   "id": "9adec895",
   "metadata": {},
   "outputs": [
    {
     "data": {
      "text/plain": [
       "12420"
      ]
     },
     "execution_count": 18,
     "metadata": {},
     "output_type": "execute_result"
    }
   ],
   "source": [
    "#43. Write a Python program to multiply all the numbers in a given list using lambda.\n",
    "lst = [12,23,45]\n",
    "from functools import reduce\n",
    "\n",
    "reduce(lambda x,y:x*y,lst)\n"
   ]
  },
  {
   "cell_type": "code",
   "execution_count": 19,
   "id": "f9090120",
   "metadata": {},
   "outputs": [
    {
     "data": {
      "text/plain": [
       "(30.5, 34.25, 27.0)"
      ]
     },
     "execution_count": 19,
     "metadata": {},
     "output_type": "execute_result"
    }
   ],
   "source": [
    "#44. Write a Python program to calculate the average value of the numbers in a given tuple of tuples using lambda.\n",
    "tup_tup = ((10,10,10),(30,45,56),(81,80,39),(1,2,3))\n",
    "\n",
    "tuple(map(lambda x:(sum(x)/len(tup_tup)), zip(*tup_tup)))"
   ]
  },
  {
   "cell_type": "code",
   "execution_count": 20,
   "id": "eb016e26",
   "metadata": {},
   "outputs": [
    {
     "data": {
      "text/plain": [
       "[(233, 33), (432, 44), (654, 54)]"
      ]
     },
     "execution_count": 20,
     "metadata": {},
     "output_type": "execute_result"
    }
   ],
   "source": [
    "#45.Write a Python program to convert string element to integer inside a given tuple using lambda.\n",
    "\n",
    "tup_str = (('233','abc','33'),('432','drf','44'),('654','hhh','54'))\n",
    "\n",
    "list(map(lambda x: (int(x[0]),int(x[2])),tup_str))\n"
   ]
  },
  {
   "cell_type": "code",
   "execution_count": 21,
   "id": "a3a12987",
   "metadata": {},
   "outputs": [
    {
     "data": {
      "text/plain": [
       "(5, 99)"
      ]
     },
     "metadata": {},
     "output_type": "display_data"
    },
    {
     "data": {
      "text/plain": [
       "(3, 11)"
      ]
     },
     "metadata": {},
     "output_type": "display_data"
    }
   ],
   "source": [
    "#46.Write a Python program to find index position and value of the maximum and minimum values in a given list of numbers using lambda.\n",
    "\n",
    "lst = [33,88,55,11,22,99,44]\n",
    "\n",
    "display(max(enumerate(lst),key=lambda x: x[1]),\n",
    "min(enumerate(lst),key=lambda x: x[1]))\n"
   ]
  }
 ],
 "metadata": {
  "kernelspec": {
   "display_name": "Python 3 (ipykernel)",
   "language": "python",
   "name": "python3"
  },
  "language_info": {
   "codemirror_mode": {
    "name": "ipython",
    "version": 3
   },
   "file_extension": ".py",
   "mimetype": "text/x-python",
   "name": "python",
   "nbconvert_exporter": "python",
   "pygments_lexer": "ipython3",
   "version": "3.9.12"
  }
 },
 "nbformat": 4,
 "nbformat_minor": 5
}
