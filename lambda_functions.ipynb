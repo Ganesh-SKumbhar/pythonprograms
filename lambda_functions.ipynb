{
 "cells": [
  {
   "cell_type": "raw",
   "id": "0977cfb2",
   "metadata": {},
   "source": [
    "Lambda function is anonymous function or nameless function\n",
    "\n",
    "Syntax : \n",
    "    lambda parameter/parameters : expression\n",
    "    \n",
    "lambda is keyword to create lambda function\n",
    "there can be 1 or more parameters\n",
    "it can have only single expression\n",
    "\n"
   ]
  },
  {
   "cell_type": "code",
   "execution_count": 1,
   "id": "5705326b",
   "metadata": {},
   "outputs": [
    {
     "data": {
      "text/plain": [
       "12"
      ]
     },
     "execution_count": 1,
     "metadata": {},
     "output_type": "execute_result"
    }
   ],
   "source": [
    "# Like we want to add two values:\n",
    "\n",
    "# function declaration with expected expression\n",
    "add_num = lambda x, y : x + y\n",
    "\n",
    "\n",
    "# calling\n",
    "add_num(4,8)"
   ]
  },
  {
   "cell_type": "raw",
   "id": "17f2e4a5",
   "metadata": {},
   "source": [
    "Here above we can see that we created lambda function to add two numbers with parameters x and y, \n",
    "and function returns sum of parameters\n",
    "\n",
    "Here it may seem that add_num as function but as we can see in declaration as regular function we dont have any parenthesis and def keyword to take parameters so we cant say it as funtion"
   ]
  },
  {
   "cell_type": "code",
   "execution_count": 1,
   "id": "1460510c",
   "metadata": {},
   "outputs": [
    {
     "data": {
      "text/plain": [
       "12"
      ]
     },
     "execution_count": 1,
     "metadata": {},
     "output_type": "execute_result"
    }
   ],
   "source": [
    "(lambda x, y : x + y)(4,8)\n",
    "\n",
    "# we can also call a lambda function immediately using parenthesis as shown above"
   ]
  },
  {
   "cell_type": "markdown",
   "id": "a586f30a",
   "metadata": {},
   "source": [
    "### Difference betweeen lambda and regular functions\n",
    "#lambda function\n",
    "- lambda function defined using lambda keyword\n",
    "- can be written in single line\n",
    "- dont have return statement\n",
    "- can be used without name\n",
    "\n",
    "Regular function\n",
    "- It is declared with def keyword\n",
    "- requires more than one line\n",
    "- return statement is must for returning values\n",
    "- must be used with name"
   ]
  },
  {
   "cell_type": "raw",
   "id": "ec40c682",
   "metadata": {},
   "source": [
    "We must use lambda functions when we want to use it for single time, or we want function with return values"
   ]
  },
  {
   "cell_type": "markdown",
   "id": "e054a5e0",
   "metadata": {},
   "source": [
    "#### Examples:"
   ]
  },
  {
   "cell_type": "code",
   "execution_count": 2,
   "id": "fb1657e2",
   "metadata": {},
   "outputs": [
    {
     "data": {
      "text/plain": [
       "12"
      ]
     },
     "execution_count": 2,
     "metadata": {},
     "output_type": "execute_result"
    }
   ],
   "source": [
    "# multiplying two numbers\n",
    "\n",
    "mult_nums = lambda x,y: x* y\n",
    "\n",
    "mult_nums(3,4)"
   ]
  },
  {
   "cell_type": "code",
   "execution_count": 3,
   "id": "50fb402d",
   "metadata": {},
   "outputs": [
    {
     "name": "stdout",
     "output_type": "stream",
     "text": [
      "Even :  [12, 24, 16, 88, 56, 42]\n",
      "Odd :  [35, 77, 45, 65, 33, 61]\n"
     ]
    }
   ],
   "source": [
    "# Write a python program to filter a list of integers using lambda\n",
    "\n",
    "lst = [12,24,16,35,77,45,65,33,88,56,42,61]\n",
    "\n",
    "even = list(filter(lambda i: i%2 == 0, lst))\n",
    "print('Even : ', even)\n",
    "\n",
    "odd = list(filter(lambda i: i%2 != 0, lst))\n",
    "print('Odd : ', odd)"
   ]
  },
  {
   "cell_type": "code",
   "execution_count": null,
   "id": "b5a7412c",
   "metadata": {},
   "outputs": [],
   "source": []
  }
 ],
 "metadata": {
  "kernelspec": {
   "display_name": "Python 3 (ipykernel)",
   "language": "python",
   "name": "python3"
  },
  "language_info": {
   "codemirror_mode": {
    "name": "ipython",
    "version": 3
   },
   "file_extension": ".py",
   "mimetype": "text/x-python",
   "name": "python",
   "nbconvert_exporter": "python",
   "pygments_lexer": "ipython3",
   "version": "3.9.12"
  }
 },
 "nbformat": 4,
 "nbformat_minor": 5
}
