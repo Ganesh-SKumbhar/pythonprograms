{
 "cells": [
  {
   "cell_type": "code",
   "execution_count": 3,
   "id": "8a7d5149",
   "metadata": {},
   "outputs": [
    {
     "name": "stdout",
     "output_type": "stream",
     "text": [
      "Enter a string with mixed characters and numbers onlyasda\n",
      "0123456789bcefghijklmnopqrtuvwxyz\n"
     ]
    }
   ],
   "source": [
    "# implement a function that takes a string that consists of lowercase letters and digits and\n",
    "# returns a string that consists of all digits and lowercase English letters that are not present in the string.\n",
    "# the digits should come first, in ascending order, followed by characters, aslo in ascending order\n",
    "\n",
    "def func(str1):\n",
    "    characters = 'abcdefghijklmnopqrstuvwxyz'\n",
    "    numbers = '0123456789'\n",
    "    digits = ''\n",
    "    alpha = ''\n",
    "    str2 = ''\n",
    "    for i in str1:\n",
    "        if i.isnumeric():\n",
    "            digits += i\n",
    "        elif i.isalpha():\n",
    "            alpha += i\n",
    "   \n",
    "    for num in numbers:\n",
    "        if num not in digits:\n",
    "            str2 += num\n",
    "            \n",
    "    for char in characters:\n",
    "        if char not in alpha:\n",
    "            str2 +=char\n",
    "    print(str2)\n",
    "    \n",
    "str1 = input('Enter a string with mixed characters and numbers only')\n",
    "func(str1)"
   ]
  },
  {
   "cell_type": "code",
   "execution_count": null,
   "id": "7f13b850",
   "metadata": {},
   "outputs": [],
   "source": []
  }
 ],
 "metadata": {
  "kernelspec": {
   "display_name": "Python 3 (ipykernel)",
   "language": "python",
   "name": "python3"
  },
  "language_info": {
   "codemirror_mode": {
    "name": "ipython",
    "version": 3
   },
   "file_extension": ".py",
   "mimetype": "text/x-python",
   "name": "python",
   "nbconvert_exporter": "python",
   "pygments_lexer": "ipython3",
   "version": "3.9.12"
  }
 },
 "nbformat": 4,
 "nbformat_minor": 5
}
