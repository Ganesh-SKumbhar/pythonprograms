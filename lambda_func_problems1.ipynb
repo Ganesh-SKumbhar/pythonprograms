{
 "cells": [
  {
   "cell_type": "code",
   "execution_count": 1,
   "id": "ec7cb81f",
   "metadata": {},
   "outputs": [
    {
     "name": "stdout",
     "output_type": "stream",
     "text": [
      "Even :  [12, 24, 16, 88, 56, 42]\n",
      "Odd :  [35, 77, 45, 65, 33, 61]\n"
     ]
    }
   ],
   "source": [
    "#5. Write a python program to filter a list of integers using lambda\n",
    "lst = [12,24,16,35,77,45,65,33,88,56,42,61]\n",
    "\n",
    "even = list(filter(lambda i: i%2 == 0, lst))\n",
    "print('Even : ', even)\n",
    "\n",
    "odd = list(filter(lambda i: i%2 != 0, lst))\n",
    "print('Odd : ', odd)"
   ]
  },
  {
   "cell_type": "code",
   "execution_count": 2,
   "id": "8d3dc164",
   "metadata": {},
   "outputs": [
    {
     "name": "stdout",
     "output_type": "stream",
     "text": [
      "Square :  [144, 25, 64, 49, 81, 121, 9, 36]\n",
      "Cubes :  [1728, 125, 512, 343, 729, 1331, 27, 216]\n"
     ]
    }
   ],
   "source": [
    "#6.Write a Python program to square and cube every number in a given list of integers using Lambda.\n",
    "lst = [12,5,8,7,9,11,3,6]\n",
    "\n",
    "print('Square : ', list(map(lambda x:x**2, lst)))\n",
    "print('Cubes : ',list(map(lambda x:x**3, lst)))"
   ]
  },
  {
   "cell_type": "code",
   "execution_count": 3,
   "id": "d22e48ab",
   "metadata": {},
   "outputs": [
    {
     "name": "stdout",
     "output_type": "stream",
     "text": [
      "False\n",
      "True\n"
     ]
    }
   ],
   "source": [
    "#7.Write a Python program to find if a given string starts with a given character using Lambda.\n",
    "fun = lambda st : True if st.startswith('A') else False\n",
    "\n",
    "print(fun('Mango'))\n",
    "print(fun('Alphanso'))"
   ]
  },
  {
   "cell_type": "code",
   "execution_count": 4,
   "id": "56ab865a",
   "metadata": {},
   "outputs": [
    {
     "name": "stdout",
     "output_type": "stream",
     "text": [
      "Todays date is:  2023-02-04 16:20:11.815130\n",
      "Date :  4\n",
      "Month :  2\n",
      "Year :  2023\n",
      "Time :  16:20:11.815130\n"
     ]
    }
   ],
   "source": [
    "#8.Write a Python program to extract year, month, date and time using Lambda.\n",
    "from datetime import datetime\n",
    "today = datetime.now()\n",
    "print('Todays date is: ',today)\n",
    "\n",
    "day = lambda d:d.day\n",
    "month = lambda m:m.month\n",
    "year = lambda y:y.year\n",
    "t = lambda t:t.time()\n",
    "\n",
    "print('Date : ',day(today))\n",
    "print('Month : ',month(today))\n",
    "print('Year : ',year(today))\n",
    "print('Time : ',t(today))"
   ]
  },
  {
   "cell_type": "code",
   "execution_count": 5,
   "id": "ba66b94c",
   "metadata": {},
   "outputs": [
    {
     "name": "stdout",
     "output_type": "stream",
     "text": [
      "Enter anything to check whether it is number or not: 123\n",
      "True\n"
     ]
    }
   ],
   "source": [
    "#9.Write a Python program to check whether a given string is number or not using Lambda.\n",
    "str1 = input('Enter anything to check whether it is number or not: ')\n",
    "\n",
    "fun = lambda x: True if x.isnumeric() else False\n",
    "\n",
    "print(fun(str1))"
   ]
  },
  {
   "cell_type": "code",
   "execution_count": 6,
   "id": "82306b77",
   "metadata": {},
   "outputs": [
    {
     "name": "stdout",
     "output_type": "stream",
     "text": [
      "[0, 1, 1, 2, 3, 5, 8]\n"
     ]
    }
   ],
   "source": [
    "#10. Write a Python program to create Fibonacci series upto n using Lambda.\n",
    "from functools import reduce\n",
    "\n",
    "fib_numbers = lambda y: reduce(lambda x, _: x + [x[-1] + x[-2]], range(y - 2), [0, 1])\n",
    "\n",
    "print(fib_numbers(7))"
   ]
  },
  {
   "cell_type": "code",
   "execution_count": 7,
   "id": "2ad6a2cc",
   "metadata": {},
   "outputs": [
    {
     "data": {
      "text/plain": [
       "[3, 9, 1]"
      ]
     },
     "execution_count": 7,
     "metadata": {},
     "output_type": "execute_result"
    }
   ],
   "source": [
    "#11.Write a Python program to find intersection of two given arrays using Lambda.\n",
    "l1 = [1,5,9,3,8,2,10,7]\n",
    "l2 = [3,9,1,4,6]\n",
    "\n",
    "intersect = filter(lambda x: x in l1,l2)\n",
    "\n",
    "list(intersect)"
   ]
  },
  {
   "cell_type": "code",
   "execution_count": 8,
   "id": "c985fd3f",
   "metadata": {},
   "outputs": [
    {
     "name": "stdout",
     "output_type": "stream",
     "text": [
      "list after rearrange :  [1, 2, 5, 6, 9, -7, -3, -2, -1]\n"
     ]
    }
   ],
   "source": [
    "#12. Write a Python program to rearrange positive and negative numbers in a given array using Lambda.\n",
    "lst = [1,6,-3,5,-2,9,2,-7,-1]\n",
    "lst = sorted(lst)\n",
    "\n",
    "rearr = lambda lst: [x for x in lst if x >= 0] + [x for x in lst if x < 0]\n",
    "\n",
    "print('list after rearrange : ', rearr(lst))"
   ]
  },
  {
   "cell_type": "code",
   "execution_count": 9,
   "id": "1ab3c256",
   "metadata": {},
   "outputs": [
    {
     "name": "stdout",
     "output_type": "stream",
     "text": [
      "Even numbers : 6 Odd numbers :  7\n"
     ]
    }
   ],
   "source": [
    "#13.Write a Python program to count the even, odd numbers in a given array of integers using Lambda.\n",
    "lst = [12,24,16,35,77,45,65,33,88,56,42,61,21]\n",
    "\n",
    "even_ctr = len(list(filter(lambda x: x%2 == 0, lst)))\n",
    "odd_ctr = len(list(filter(lambda x: x%2 != 0, lst)))\n",
    "print('Even numbers :',even_ctr, 'Odd numbers : ', odd_ctr)"
   ]
  }
 ],
 "metadata": {
  "kernelspec": {
   "display_name": "Python 3 (ipykernel)",
   "language": "python",
   "name": "python3"
  },
  "language_info": {
   "codemirror_mode": {
    "name": "ipython",
    "version": 3
   },
   "file_extension": ".py",
   "mimetype": "text/x-python",
   "name": "python",
   "nbconvert_exporter": "python",
   "pygments_lexer": "ipython3",
   "version": "3.9.12"
  }
 },
 "nbformat": 4,
 "nbformat_minor": 5
}
