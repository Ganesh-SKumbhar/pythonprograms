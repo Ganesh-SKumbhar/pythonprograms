{
 "cells": [
  {
   "cell_type": "code",
   "execution_count": 1,
   "id": "13d174b2",
   "metadata": {},
   "outputs": [
    {
     "name": "stdout",
     "output_type": "stream",
     "text": [
      "Enter a string of words separated by space: Dog RuNs FaSt\n",
      "fAsT rUnS dOG\n"
     ]
    }
   ],
   "source": [
    "# implement a function that takes a string consisting of words separated by single spaces and returns a string containing\n",
    "# all those words but in the reverse order and such that all cases of letters in the original string are swapped.\n",
    "\n",
    "def func1(str3):\n",
    "    lst = str3.split()[::-1]\n",
    "    final = ' '.join([i.swapcase() for i in lst])\n",
    "    print(final)\n",
    "\n",
    "str3 = input('Enter a string of words separated by space: ')\n",
    "func1(str3)"
   ]
  },
  {
   "cell_type": "code",
   "execution_count": null,
   "id": "0df651e2",
   "metadata": {},
   "outputs": [],
   "source": []
  }
 ],
 "metadata": {
  "kernelspec": {
   "display_name": "Python 3 (ipykernel)",
   "language": "python",
   "name": "python3"
  },
  "language_info": {
   "codemirror_mode": {
    "name": "ipython",
    "version": 3
   },
   "file_extension": ".py",
   "mimetype": "text/x-python",
   "name": "python",
   "nbconvert_exporter": "python",
   "pygments_lexer": "ipython3",
   "version": "3.9.12"
  }
 },
 "nbformat": 4,
 "nbformat_minor": 5
}
